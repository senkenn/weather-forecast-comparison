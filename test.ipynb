{
 "cells": [
  {
   "cell_type": "code",
   "execution_count": null,
   "metadata": {},
   "outputs": [],
   "source": [
    "import urllib.request\n",
    "from bs4 import BeautifulSoup\n",
    "\n",
    "pattern = \"s1\"\n",
    "yyyy = 2024\n",
    "mm = 11\n",
    "dd = \"01\"\n",
    "prec_no = 44\n",
    "block_no = 47662\n",
    "time_period = \"hourly\"\n",
    "url = f\"https://www.data.jma.go.jp/obd/stats/etrn/view/{time_period}_{pattern}.php?prec_no={prec_no}&block_no={block_no}&year={yyyy}&month={mm}&day={dd}&view=p1\"\n",
    "\n",
    "ret = urllib.request.urlopen(url)\n",
    "html = ret.read()\n",
    "\n",
    "html"
   ]
  },
  {
   "cell_type": "code",
   "execution_count": null,
   "metadata": {},
   "outputs": [],
   "source": [
    "soup = BeautifulSoup(html, \"html.parser\")\n",
    "element = soup.find_all(\"tr\", attrs={\"class\": \"mtx\", \"style\": \"text-align:right;\"})\n",
    "# out = [\n",
    "#     [x.get(\"alt\") if x.name == \"img\" else x.text for x in ele] for ele in element\n",
    "# ]  # 日付の列を追加（24個分）\n",
    "\n",
    "# out[2]\n",
    "print(element[2].text)\n",
    "print(element[2].img)\n",
    "for ele in element:\n",
    "    img_tag = ele.find('img')\n",
    "    if img_tag and img_tag.has_attr('alt'):\n",
    "        print(img_tag['alt'])\n",
    "    else:\n",
    "        print(ele.text)"
   ]
  }
 ],
 "metadata": {
  "kernelspec": {
   "display_name": ".venv",
   "language": "python",
   "name": "python3"
  },
  "language_info": {
   "codemirror_mode": {
    "name": "ipython",
    "version": 3
   },
   "file_extension": ".py",
   "mimetype": "text/x-python",
   "name": "python",
   "nbconvert_exporter": "python",
   "pygments_lexer": "ipython3",
   "version": "3.13.0"
  }
 },
 "nbformat": 4,
 "nbformat_minor": 2
}
